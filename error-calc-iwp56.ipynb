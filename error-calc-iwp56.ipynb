
Patient: IWP5
Processing folder: /Users/ajahedi/OneDrive - Inside MD Anderson/CODEX Resources & Papers/computational files/qc/Stitching/Raw_tissue plots/IWP5/IWP5Reg01/no
Processing folder: /Users/ajahedi/OneDrive - Inside MD Anderson/CODEX Resources & Papers/computational files/qc/Stitching/Raw_tissue plots/IWP5/IWP5Reg01/high

Region: 1
Precision: 0.69, Recall: 1.00, F1 Score: 0.82
Processing folder: /Users/ajahedi/OneDrive - Inside MD Anderson/CODEX Resources & Papers/computational files/qc/Stitching/Raw_tissue plots/IWP5/IWP5Reg02/no
Processing folder: /Users/ajahedi/OneDrive - Inside MD Anderson/CODEX Resources & Papers/computational files/qc/Stitching/Raw_tissue plots/IWP5/IWP5Reg02/high

Region: 2
Precision: 0.79, Recall: 1.00, F1 Score: 0.88
Processing folder: /Users/ajahedi/OneDrive - Inside MD Anderson/CODEX Resources & Papers/computational files/qc/Stitching/Raw_tissue plots/IWP5/IWP5Reg03/no
Processing folder: /Users/ajahedi/OneDrive - Inside MD Anderson/CODEX Resources & Papers/computational files/qc/Stitching/Raw_tissue plots/IWP5/IWP5Reg03/high

Region: 3
Precision: 0.79, Recall: 1.00, F1 Score: 0.88
Processing folder: /Users/ajahedi/OneDrive - Inside MD Anderson/CODEX Resources & Papers/computational files/qc/Stitching/Raw_tissue plots/IWP5/IWP5Reg04/no
Processing folder: /Users/ajahedi/OneDrive - Inside MD Anderson/CODEX Resources & Papers/computational files/qc/Stitching/Raw_tissue plots/IWP5/IWP5Reg04/high

Region: 4
Precision: 0.48, Recall: 1.00, F1 Score: 0.65
Processing folder: /Users/ajahedi/OneDrive - Inside MD Anderson/CODEX Resources & Papers/computational files/qc/Stitching/Raw_tissue plots/IWP5/IWP5Reg05/no
Processing folder: /Users/ajahedi/OneDrive - Inside MD Anderson/CODEX Resources & Papers/computational files/qc/Stitching/Raw_tissue plots/IWP5/IWP5Reg05/high

Region: 5
Precision: 0.48, Recall: 1.00, F1 Score: 0.65
Processing folder: /Users/ajahedi/OneDrive - Inside MD Anderson/CODEX Resources & Papers/computational files/qc/Stitching/Raw_tissue plots/IWP5/IWP5Reg06/no
Processing folder: /Users/ajahedi/OneDrive - Inside MD Anderson/CODEX Resources & Papers/computational files/qc/Stitching/Raw_tissue plots/IWP5/IWP5Reg06/high

Region: 6
Precision: 0.68, Recall: 1.00, F1 Score: 0.81
Processing folder: /Users/ajahedi/OneDrive - Inside MD Anderson/CODEX Resources & Papers/computational files/qc/Stitching/Raw_tissue plots/IWP5/IWP5Reg07/no
Processing folder: /Users/ajahedi/OneDrive - Inside MD Anderson/CODEX Resources & Papers/computational files/qc/Stitching/Raw_tissue plots/IWP5/IWP5Reg07/high

Region: 7
Precision: 0.69, Recall: 0.56, F1 Score: 0.62
Processing folder: /Users/ajahedi/OneDrive - Inside MD Anderson/CODEX Resources & Papers/computational files/qc/Stitching/Raw_tissue plots/IWP5/IWP5Reg08/no
Processing folder: /Users/ajahedi/OneDrive - Inside MD Anderson/CODEX Resources & Papers/computational files/qc/Stitching/Raw_tissue plots/IWP5/IWP5Reg08/high

Region: 8
Precision: 0.78, Recall: 0.67, F1 Score: 0.72
Folder does not exist: /Users/ajahedi/OneDrive - Inside MD Anderson/CODEX Resources & Papers/computational files/qc/Stitching/Raw_tissue plots/IWP5/IWP5Reg09/no
Folder does not exist: /Users/ajahedi/OneDrive - Inside MD Anderson/CODEX Resources & Papers/computational files/qc/Stitching/Raw_tissue plots/IWP5/IWP5Reg09/high

Region: 9
Precision: 0.00, Recall: 0.00, F1 Score: 0.00
Folder does not exist: /Users/ajahedi/OneDrive - Inside MD Anderson/CODEX Resources & Papers/computational files/qc/Stitching/Raw_tissue plots/IWP5/IWP5Reg10/no
Folder does not exist: /Users/ajahedi/OneDrive - Inside MD Anderson/CODEX Resources & Papers/computational files/qc/Stitching/Raw_tissue plots/IWP5/IWP5Reg10/high

Region: 10
Precision: 0.00, Recall: 0.00, F1 Score: 0.00

Overall for Patient IWP5
Precision: 0.67, Recall: 0.91, F1 Score: 0.77
==============================

Patient: IWP6
Processing folder: /Users/ajahedi/OneDrive - Inside MD Anderson/CODEX Resources & Papers/computational files/qc/Stitching/Raw_tissue plots/IWP6/IWP6Reg01/no
Processing folder: /Users/ajahedi/OneDrive - Inside MD Anderson/CODEX Resources & Papers/computational files/qc/Stitching/Raw_tissue plots/IWP6/IWP6Reg01/high

Region: 1
Precision: 1.00, Recall: 0.82, F1 Score: 0.90
Processing folder: /Users/ajahedi/OneDrive - Inside MD Anderson/CODEX Resources & Papers/computational files/qc/Stitching/Raw_tissue plots/IWP6/IWP6Reg02/no
Processing folder: /Users/ajahedi/OneDrive - Inside MD Anderson/CODEX Resources & Papers/computational files/qc/Stitching/Raw_tissue plots/IWP6/IWP6Reg02/high

Region: 2
Precision: 0.18, Recall: 1.00, F1 Score: 0.30
Processing folder: /Users/ajahedi/OneDrive - Inside MD Anderson/CODEX Resources & Papers/computational files/qc/Stitching/Raw_tissue plots/IWP6/IWP6Reg03/no
Processing folder: /Users/ajahedi/OneDrive - Inside MD Anderson/CODEX Resources & Papers/computational files/qc/Stitching/Raw_tissue plots/IWP6/IWP6Reg03/high

Region: 3
Precision: 0.30, Recall: 0.78, F1 Score: 0.44
Processing folder: /Users/ajahedi/OneDrive - Inside MD Anderson/CODEX Resources & Papers/computational files/qc/Stitching/Raw_tissue plots/IWP6/IWP6Reg04/no
Processing folder: /Users/ajahedi/OneDrive - Inside MD Anderson/CODEX Resources & Papers/computational files/qc/Stitching/Raw_tissue plots/IWP6/IWP6Reg04/high

Region: 4
Precision: 0.40, Recall: 0.46, F1 Score: 0.43
Processing folder: /Users/ajahedi/OneDrive - Inside MD Anderson/CODEX Resources & Papers/computational files/qc/Stitching/Raw_tissue plots/IWP6/IWP6Reg05/no
Processing folder: /Users/ajahedi/OneDrive - Inside MD Anderson/CODEX Resources & Papers/computational files/qc/Stitching/Raw_tissue plots/IWP6/IWP6Reg05/high

Region: 5
Precision: 0.40, Recall: 0.53, F1 Score: 0.46
Processing folder: /Users/ajahedi/OneDrive - Inside MD Anderson/CODEX Resources & Papers/computational files/qc/Stitching/Raw_tissue plots/IWP6/IWP6Reg06/no
Processing folder: /Users/ajahedi/OneDrive - Inside MD Anderson/CODEX Resources & Papers/computational files/qc/Stitching/Raw_tissue plots/IWP6/IWP6Reg06/high

Region: 6
Precision: 0.56, Recall: 0.93, F1 Score: 0.70
Processing folder: /Users/ajahedi/OneDrive - Inside MD Anderson/CODEX Resources & Papers/computational files/qc/Stitching/Raw_tissue plots/IWP6/IWP6Reg07/no
